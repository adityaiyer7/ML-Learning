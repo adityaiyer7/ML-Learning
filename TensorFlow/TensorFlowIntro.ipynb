{
  "nbformat": 4,
  "nbformat_minor": 0,
  "metadata": {
    "colab": {
      "provenance": []
    },
    "kernelspec": {
      "name": "python3",
      "display_name": "Python 3"
    },
    "language_info": {
      "name": "python"
    }
  },
  "cells": [
    {
      "cell_type": "code",
      "source": [
        "import tensorflow as tf\n",
        "print(tf.version)"
      ],
      "metadata": {
        "colab": {
          "base_uri": "https://localhost:8080/"
        },
        "id": "uD2WJLtuER88",
        "outputId": "18b6d8a9-2b6a-4529-c418-688a7d23d590"
      },
      "execution_count": 2,
      "outputs": [
        {
          "output_type": "stream",
          "name": "stdout",
          "text": [
            "<module 'tensorflow._api.v2.version' from '/usr/local/lib/python3.8/dist-packages/tensorflow/_api/v2/version/__init__.py'>\n"
          ]
        }
      ]
    },
    {
      "cell_type": "markdown",
      "source": [
        "**What is a tensor?**\n",
        "A tensor is a vector that is generalized to higher dimensions. A tensor represents a partially defined computation that will eventually lead into a value. Each tensor has a datatype and a shape. "
      ],
      "metadata": {
        "id": "IKbQ0OgOE94d"
      }
    },
    {
      "cell_type": "markdown",
      "source": [
        "Below is an example of creating tensors. (Note that the example defined below in the next cell, demonstrates tensors with just one item, so they're shape is 1 and they're a scalar. A scalar values means its just one value. Vector values means its more than one number)\n"
      ],
      "metadata": {
        "id": "DohJw3CtXX_q"
      }
    },
    {
      "cell_type": "code",
      "source": [
        "string = tf.Variable(\"some string\", tf.string)  #tf.Variable(value, datatype)\n",
        "number = tf.Variable(12345, tf.int16)\n",
        "floating  = tf.Variable(3.1234, tf.float64)"
      ],
      "metadata": {
        "id": "TR34nSliXbyK"
      },
      "execution_count": 3,
      "outputs": []
    },
    {
      "cell_type": "markdown",
      "source": [
        "# *Rank/Dimension*\n",
        "The rank or dimension of a tensor simply refers to the number of items in the tensor. The tensors created above have rank 0 (1 item is considered to be rank 0, and its a scalar). An interesting thing to note is that whenever you have a list, it is immediately considered as atleast 1 (even if the list has only one element or n items). Look at examples below for more clarification on what I mean.\n",
        "\n",
        "\n"
      ],
      "metadata": {
        "id": "1eNi48O2YhGR"
      }
    },
    {
      "cell_type": "code",
      "source": [
        "tensor1 = tf.Variable([\"some string\", \"humbaba\", \"gilgamesh\"], tf.string)  #this is of rank 1 even though the list contains more than 1 item\n",
        "tensor2 = tf.Variable([12345], tf.int16) #this is also considered as rank 1 even \n",
        "#though the array has only element. If 12345 was not in a list then the rank would be 0\n",
        "tensor3  = tf.Variable([[\"hi\", \"hello\",\"yo\"],[\"hi\",\"hello\",\"hi\"],[\"yo\",\"whats\",\"up\"]], tf.string) #this is of rank 2 as the deepest level of nesting is 2\n",
        "#if i had a list inside a list inside a list, the rank would be 3 (look at example below)\n",
        "tensor4 = tf.Variable([[[\"hello\"]]], tf.string)\n",
        "\n"
      ],
      "metadata": {
        "id": "OakcNS7EZ_vt"
      },
      "execution_count": 10,
      "outputs": []
    },
    {
      "cell_type": "code",
      "source": [
        "tf.rank(tensor4)"
      ],
      "metadata": {
        "colab": {
          "base_uri": "https://localhost:8080/"
        },
        "id": "i9ackVeTbm9p",
        "outputId": "0bbbbbb9-648f-4274-b7c6-38696a233e52"
      },
      "execution_count": 8,
      "outputs": [
        {
          "output_type": "execute_result",
          "data": {
            "text/plain": [
              "<tf.Tensor: shape=(), dtype=int32, numpy=3>"
            ]
          },
          "metadata": {},
          "execution_count": 8
        }
      ]
    },
    {
      "cell_type": "markdown",
      "source": [
        "# ***Shape of a Tensor***\n",
        "The shape of the tensor tells us how many elements there are in each dimension. "
      ],
      "metadata": {
        "id": "Z0sbHzEZ5sDJ"
      }
    },
    {
      "cell_type": "code",
      "source": [
        "tensorshape = tf.Variable([[\"hello\"]],tf.string)\n",
        "tensorshape1 = tf.Variable([[\"hello\"],[\"whatsup\"]],tf.string)"
      ],
      "metadata": {
        "id": "S7I5jtbu6hQW"
      },
      "execution_count": 14,
      "outputs": []
    },
    {
      "cell_type": "code",
      "source": [
        "tensorshape.shape #first parameter of the output tells us how many dimensions are there, the second parameter tells us the number of items in each dimension"
      ],
      "metadata": {
        "colab": {
          "base_uri": "https://localhost:8080/"
        },
        "id": "zv_5jhz0a_GX",
        "outputId": "2575d4d0-b4d1-4b53-d1f8-ee2543e49802"
      },
      "execution_count": 15,
      "outputs": [
        {
          "output_type": "execute_result",
          "data": {
            "text/plain": [
              "TensorShape([1, 1])"
            ]
          },
          "metadata": {},
          "execution_count": 15
        }
      ]
    },
    {
      "cell_type": "markdown",
      "source": [
        "# ***Reshaping a tensor***"
      ],
      "metadata": {
        "id": "k8kuUm30lh4d"
      }
    },
    {
      "cell_type": "code",
      "source": [
        "tensor_one = tf.ones([1,2,3]) #creates a tensor with all ones (hence the tf.ones), [1,2,3] means 1 list with 2 sublists each with 3 elements\n",
        "tensor_two = tf.reshape(tensor_one, [2,3,1]) #reshapes tensor_one to a tensor with 2 lists, each list with 3 sublists, each with 1 element \n",
        "tensor_three = tf.reshape(tensor_two, [3,-1]) #-1 tells the tensor to calculate the size of the dimension in that place,this will reshape the tensor to [3,2]"
      ],
      "metadata": {
        "id": "WEejp-RclnmE"
      },
      "execution_count": 17,
      "outputs": []
    },
    {
      "cell_type": "code",
      "source": [
        "print(tensor_one)\n",
        "print(tensor_two)\n",
        "print(tensor_three)"
      ],
      "metadata": {
        "colab": {
          "base_uri": "https://localhost:8080/"
        },
        "id": "EpZa2BUSmm14",
        "outputId": "7399f40e-ab02-4e13-c6e2-feaddecfea1c"
      },
      "execution_count": 18,
      "outputs": [
        {
          "output_type": "stream",
          "name": "stdout",
          "text": [
            "tf.Tensor(\n",
            "[[[1. 1. 1.]\n",
            "  [1. 1. 1.]]], shape=(1, 2, 3), dtype=float32)\n",
            "tf.Tensor(\n",
            "[[[1.]\n",
            "  [1.]\n",
            "  [1.]]\n",
            "\n",
            " [[1.]\n",
            "  [1.]\n",
            "  [1.]]], shape=(2, 3, 1), dtype=float32)\n",
            "tf.Tensor(\n",
            "[[1. 1.]\n",
            " [1. 1.]\n",
            " [1. 1.]], shape=(3, 2), dtype=float32)\n"
          ]
        }
      ]
    },
    {
      "cell_type": "markdown",
      "source": [
        "# ***Types of Tensors***\n",
        "There are multiple types of tensors but some of the most common tensors used are:\n",
        "1. Variable\n",
        "2. Constant \n",
        "3. Placeholder\n",
        "4. SpareTensor \n",
        "\n",
        "\n",
        "\n",
        "\n",
        "Other than the Variable tensor, all tensors are immutable. "
      ],
      "metadata": {
        "id": "0XPU-KfwnWEg"
      }
    },
    {
      "cell_type": "markdown",
      "source": [
        "# ***Evaluating a Tensor***\n",
        "Since tensors store partially complete computation we need to evaluate its value using a session (as shwon below). "
      ],
      "metadata": {
        "id": "y8f9SOKuvTyQ"
      }
    },
    {
      "cell_type": "code",
      "source": [
        "with tf.Session as sess: #creates a session using a default graph \n",
        "  tensor.eval() #tensor is the name of the tensor you want to evaluate "
      ],
      "metadata": {
        "id": "u52B-GesvwP4"
      },
      "execution_count": null,
      "outputs": []
    }
  ]
}